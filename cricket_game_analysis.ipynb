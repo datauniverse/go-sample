{
 "cells": [
  {
   "cell_type": "code",
   "execution_count": 6,
   "metadata": {},
   "outputs": [
    {
     "output_type": "execute_result",
     "data": {
      "text/plain": "    GameId      City   StartDate Gender MatchType  MatchTypeNumber  \\\n0  1000851     Perth  2016-11-03   male      Test                0   \n1  1000853    Hobart  2016-11-12   male      Test                0   \n2  1000855       NaN  2016-11-24   male      Test                0   \n3  1000881  Brisbane  2016-12-15   male      Test                0   \n4  1000883       NaN  2016-12-26   male      Test                0   \n\n   NeutralVenue        Winner Result OutcomeMethod  ... OutcomeBowlOut  Overs  \\\n0             0  South Africa    NaN           NaN  ...            NaN      0   \n1             0  South Africa    NaN           NaN  ...            NaN      0   \n2             0     Australia    NaN           NaN  ...            NaN      0   \n3             0     Australia    NaN           NaN  ...            NaN      0   \n4             0     Australia    NaN           NaN  ...            NaN      0   \n\n   PlayerOfMatch    TeamOne TeamTwo  TossDecision    TossWinner  \\\n0       K Rabada  Australia     NaN           bat  South Africa   \n1      KJ Abbott  Australia     NaN         field  South Africa   \n2     UT Khawaja  Australia     NaN           bat  South Africa   \n3    Asad Shafiq  Australia     NaN           bat     Australia   \n4      SPD Smith  Australia     NaN           bat      Pakistan   \n\n          UmpireOne  UmpireTwo                                         Venue  \n0         Aleem Dar        NaN  Western Australia Cricket Association Ground  \n1         Aleem Dar        NaN                                Bellerive Oval  \n2  RA Kettleborough        NaN                                 Adelaide Oval  \n3          IJ Gould        NaN        Brisbane Cricket Ground, Woolloongabba  \n4          IJ Gould        NaN                      Melbourne Cricket Ground  \n\n[5 rows x 24 columns]",
      "text/html": "<div>\n<style scoped>\n    .dataframe tbody tr th:only-of-type {\n        vertical-align: middle;\n    }\n\n    .dataframe tbody tr th {\n        vertical-align: top;\n    }\n\n    .dataframe thead th {\n        text-align: right;\n    }\n</style>\n<table border=\"1\" class=\"dataframe\">\n  <thead>\n    <tr style=\"text-align: right;\">\n      <th></th>\n      <th>GameId</th>\n      <th>City</th>\n      <th>StartDate</th>\n      <th>Gender</th>\n      <th>MatchType</th>\n      <th>MatchTypeNumber</th>\n      <th>NeutralVenue</th>\n      <th>Winner</th>\n      <th>Result</th>\n      <th>OutcomeMethod</th>\n      <th>...</th>\n      <th>OutcomeBowlOut</th>\n      <th>Overs</th>\n      <th>PlayerOfMatch</th>\n      <th>TeamOne</th>\n      <th>TeamTwo</th>\n      <th>TossDecision</th>\n      <th>TossWinner</th>\n      <th>UmpireOne</th>\n      <th>UmpireTwo</th>\n      <th>Venue</th>\n    </tr>\n  </thead>\n  <tbody>\n    <tr>\n      <th>0</th>\n      <td>1000851</td>\n      <td>Perth</td>\n      <td>2016-11-03</td>\n      <td>male</td>\n      <td>Test</td>\n      <td>0</td>\n      <td>0</td>\n      <td>South Africa</td>\n      <td>NaN</td>\n      <td>NaN</td>\n      <td>...</td>\n      <td>NaN</td>\n      <td>0</td>\n      <td>K Rabada</td>\n      <td>Australia</td>\n      <td>NaN</td>\n      <td>bat</td>\n      <td>South Africa</td>\n      <td>Aleem Dar</td>\n      <td>NaN</td>\n      <td>Western Australia Cricket Association Ground</td>\n    </tr>\n    <tr>\n      <th>1</th>\n      <td>1000853</td>\n      <td>Hobart</td>\n      <td>2016-11-12</td>\n      <td>male</td>\n      <td>Test</td>\n      <td>0</td>\n      <td>0</td>\n      <td>South Africa</td>\n      <td>NaN</td>\n      <td>NaN</td>\n      <td>...</td>\n      <td>NaN</td>\n      <td>0</td>\n      <td>KJ Abbott</td>\n      <td>Australia</td>\n      <td>NaN</td>\n      <td>field</td>\n      <td>South Africa</td>\n      <td>Aleem Dar</td>\n      <td>NaN</td>\n      <td>Bellerive Oval</td>\n    </tr>\n    <tr>\n      <th>2</th>\n      <td>1000855</td>\n      <td>NaN</td>\n      <td>2016-11-24</td>\n      <td>male</td>\n      <td>Test</td>\n      <td>0</td>\n      <td>0</td>\n      <td>Australia</td>\n      <td>NaN</td>\n      <td>NaN</td>\n      <td>...</td>\n      <td>NaN</td>\n      <td>0</td>\n      <td>UT Khawaja</td>\n      <td>Australia</td>\n      <td>NaN</td>\n      <td>bat</td>\n      <td>South Africa</td>\n      <td>RA Kettleborough</td>\n      <td>NaN</td>\n      <td>Adelaide Oval</td>\n    </tr>\n    <tr>\n      <th>3</th>\n      <td>1000881</td>\n      <td>Brisbane</td>\n      <td>2016-12-15</td>\n      <td>male</td>\n      <td>Test</td>\n      <td>0</td>\n      <td>0</td>\n      <td>Australia</td>\n      <td>NaN</td>\n      <td>NaN</td>\n      <td>...</td>\n      <td>NaN</td>\n      <td>0</td>\n      <td>Asad Shafiq</td>\n      <td>Australia</td>\n      <td>NaN</td>\n      <td>bat</td>\n      <td>Australia</td>\n      <td>IJ Gould</td>\n      <td>NaN</td>\n      <td>Brisbane Cricket Ground, Woolloongabba</td>\n    </tr>\n    <tr>\n      <th>4</th>\n      <td>1000883</td>\n      <td>NaN</td>\n      <td>2016-12-26</td>\n      <td>male</td>\n      <td>Test</td>\n      <td>0</td>\n      <td>0</td>\n      <td>Australia</td>\n      <td>NaN</td>\n      <td>NaN</td>\n      <td>...</td>\n      <td>NaN</td>\n      <td>0</td>\n      <td>SPD Smith</td>\n      <td>Australia</td>\n      <td>NaN</td>\n      <td>bat</td>\n      <td>Pakistan</td>\n      <td>IJ Gould</td>\n      <td>NaN</td>\n      <td>Melbourne Cricket Ground</td>\n    </tr>\n  </tbody>\n</table>\n<p>5 rows × 24 columns</p>\n</div>"
     },
     "metadata": {},
     "execution_count": 6
    }
   ],
   "source": [
    "import pandas as pd\n",
    "\n",
    "games = pd.read_csv(\"data/games.csv\")\n",
    "\n",
    "games.head()"
   ]
  },
  {
   "cell_type": "code",
   "execution_count": 7,
   "metadata": {},
   "outputs": [
    {
     "output_type": "stream",
     "name": "stdout",
     "text": "<class 'pandas.core.frame.DataFrame'>\nRangeIndex: 5309 entries, 0 to 5308\nData columns (total 24 columns):\n #   Column            Non-Null Count  Dtype  \n---  ------            --------------  -----  \n 0   GameId            5309 non-null   int64  \n 1   City              4671 non-null   object \n 2   StartDate         5309 non-null   object \n 3   Gender            5309 non-null   object \n 4   MatchType         5309 non-null   object \n 5   MatchTypeNumber   5309 non-null   int64  \n 6   NeutralVenue      5309 non-null   int64  \n 7   Winner            5040 non-null   object \n 8   Result            269 non-null    object \n 9   OutcomeMethod     289 non-null    object \n 10  Eliminator        34 non-null     object \n 11  OutcomeByInnings  82 non-null     float64\n 12  OutcomeByRuns     5309 non-null   int64  \n 13  OutcomeByWickets  5309 non-null   int64  \n 14  OutcomeBowlOut    2 non-null      object \n 15  Overs             5309 non-null   int64  \n 16  PlayerOfMatch     4954 non-null   object \n 17  TeamOne           5309 non-null   object \n 18  TeamTwo           0 non-null      float64\n 19  TossDecision      5309 non-null   object \n 20  TossWinner        5309 non-null   object \n 21  UmpireOne         5302 non-null   object \n 22  UmpireTwo         0 non-null      float64\n 23  Venue             5309 non-null   object \ndtypes: float64(3), int64(6), object(15)\nmemory usage: 995.6+ KB\n"
    }
   ],
   "source": [
    "# Display information related to \"games\" dataframe\n",
    "games.info()"
   ]
  },
  {
   "cell_type": "code",
   "execution_count": 8,
   "metadata": {},
   "outputs": [
    {
     "output_type": "execute_result",
     "data": {
      "text/plain": "array(['Adelaide Oval', 'Melbourne Cricket Ground',\n       'Sydney Cricket Ground', 'Harare Sports Club',\n       'Sydney Showground Stadium',\n       'Rangiri Dambulla International Stadium',\n       'Johor Cricket Academy Oval',\n       'Dubai International Cricket Stadium', 'Sharjah Cricket Stadium',\n       'Sano International Cricket Ground', 'Colombo Cricket Club Ground',\n       'Galle International Stadium', 'Royal Chiangmai Golf Club',\n       'Rawalpindi Cricket Stadium', 'Multan Cricket Stadium',\n       'Chittagong Divisional Stadium', 'Queenstown Events Centre',\n       'Sheikhupura Stadium', 'Dubai Sports City Cricket Stadium',\n       'Pallekele International Cricket Stadium',\n       'Mombasa Sports Club Ground', 'Arundel Castle Cricket Club Ground',\n       'Sharjah Cricket Association Stadium',\n       'Guanggong International Cricket Stadium', 'Louth Cricket Club',\n       'Sylhet Stadium', 'Al Dhaid Cricket Village',\n       'West Mersea Cricket Club', 'Uxbridge Cricket Club Ground'],\n      dtype=object)"
     },
     "metadata": {},
     "execution_count": 8
    }
   ],
   "source": [
    "# Get a array of \"venues\" for which the \"cities\" are absent in the \"games\" dataframe\n",
    "venues_without_city = games[games[\"City\"].isna()][[\"Venue\"]].Venue.unique()\n",
    "\n",
    "# Display all values in the \"venues\" array\n",
    "venues_without_city"
   ]
  },
  {
   "cell_type": "code",
   "execution_count": 9,
   "metadata": {},
   "outputs": [
    {
     "output_type": "execute_result",
     "data": {
      "text/plain": "{'Royal Chiangmai Golf Club': 'Chiang Mai',\n 'Sydney Showground Stadium': 'Sydney',\n 'Adelaide Oval': 'Adelaide',\n 'Sydney Cricket Ground': 'Sydney',\n 'Melbourne Cricket Ground': 'Melbourne',\n 'Dubai International Cricket Stadium': 'Dubai',\n 'Sharjah Cricket Stadium': 'Sharjah',\n 'Uxbridge Cricket Club Ground': 'Uxbridge',\n 'Harare Sports Club': 'Harare',\n 'Galle International Stadium': 'Galle',\n 'Pallekele International Cricket Stadium': 'Kandy',\n 'Rawalpindi Cricket Stadium': 'Rawalpindi',\n 'Multan Cricket Stadium': 'Multan'}"
     },
     "metadata": {},
     "execution_count": 9
    }
   ],
   "source": [
    "game_venues_with_city = games[games[\"City\"].notna()][[\"City\", \"Venue\"]]\n",
    "game_venues_with_city_v = game_venues_with_city[game_venues_with_city[\"Venue\"].isin(venues_without_city)].drop_duplicates()\n",
    "venue_city_dict = dict(zip(game_venues_with_city_v[\"Venue\"], game_venues_with_city_v[\"City\"]))\n",
    "venue_city_dict"
   ]
  },
  {
   "cell_type": "code",
   "execution_count": 10,
   "metadata": {},
   "outputs": [
    {
     "output_type": "error",
     "ename": "NameError",
     "evalue": "name 'BaseEstimator' is not defined",
     "traceback": [
      "\u001b[0;31m---------------------------------------------------------------------------\u001b[0m",
      "\u001b[0;31mNameError\u001b[0m                                 Traceback (most recent call last)",
      "\u001b[0;32m<ipython-input-10-a4657a1e6894>\u001b[0m in \u001b[0;36m<module>\u001b[0;34m\u001b[0m\n\u001b[0;32m----> 1\u001b[0;31m \u001b[0;32mclass\u001b[0m \u001b[0mVenueCityMapper\u001b[0m\u001b[0;34m(\u001b[0m\u001b[0mBaseEstimator\u001b[0m\u001b[0;34m,\u001b[0m \u001b[0mTransformerMixin\u001b[0m\u001b[0;34m)\u001b[0m\u001b[0;34m:\u001b[0m\u001b[0;34m\u001b[0m\u001b[0;34m\u001b[0m\u001b[0m\n\u001b[0m\u001b[1;32m      2\u001b[0m     \u001b[0;32mdef\u001b[0m \u001b[0m__init__\u001b[0m \u001b[0;34m(\u001b[0m\u001b[0mself\u001b[0m\u001b[0;34m,\u001b[0m \u001b[0mvenue_city_dict\u001b[0m\u001b[0;34m)\u001b[0m\u001b[0;34m:\u001b[0m\u001b[0;34m\u001b[0m\u001b[0;34m\u001b[0m\u001b[0m\n\u001b[1;32m      3\u001b[0m         \u001b[0mself\u001b[0m\u001b[0;34m.\u001b[0m\u001b[0m_venue_city_dict\u001b[0m \u001b[0;34m=\u001b[0m \u001b[0mvenue_city_dict\u001b[0m\u001b[0;34m\u001b[0m\u001b[0;34m\u001b[0m\u001b[0m\n\u001b[1;32m      4\u001b[0m \u001b[0;34m\u001b[0m\u001b[0m\n\u001b[1;32m      5\u001b[0m     \u001b[0;32mdef\u001b[0m \u001b[0mfit\u001b[0m\u001b[0;34m(\u001b[0m\u001b[0mself\u001b[0m\u001b[0;34m,\u001b[0m \u001b[0mX\u001b[0m\u001b[0;34m,\u001b[0m \u001b[0my\u001b[0m \u001b[0;34m=\u001b[0m \u001b[0;32mNone\u001b[0m\u001b[0;34m)\u001b[0m\u001b[0;34m:\u001b[0m\u001b[0;34m\u001b[0m\u001b[0;34m\u001b[0m\u001b[0m\n",
      "\u001b[0;31mNameError\u001b[0m: name 'BaseEstimator' is not defined"
     ]
    }
   ],
   "source": [
    "from sklearn.base import BaseEstimator, TransformerMixin\n",
    "\n",
    "class VenueCityMapper(BaseEstimator, TransformerMixin):\n",
    "    def __init__ (self, venue_city_dict):\n",
    "        self._venue_city_dict = venue_city_dict\n",
    "        \n",
    "    def fit(self, X, y = None):\n",
    "        return self\n",
    "    \n",
    "    def transform(self, X, y = None):\n",
    "        return self"
   ]
  }
 ],
 "metadata": {
  "kernelspec": {
   "display_name": "Python 3.8.2 64-bit",
   "language": "python",
   "name": "python38264bit44974d25e77a4d39aa60ccf9b19acf0c"
  },
  "language_info": {
   "codemirror_mode": {
    "name": "ipython",
    "version": 3
   },
   "file_extension": ".py",
   "mimetype": "text/x-python",
   "name": "python",
   "nbconvert_exporter": "python",
   "pygments_lexer": "ipython3",
   "version": "3.8.2-final"
  }
 },
 "nbformat": 4,
 "nbformat_minor": 4
}